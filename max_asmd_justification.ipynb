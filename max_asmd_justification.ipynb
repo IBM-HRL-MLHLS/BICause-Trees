{
 "cells": [
  {
   "cell_type": "code",
   "execution_count": 1,
   "id": "56e3bcab-f564-458b-845e-a2bf5d3de99e",
   "metadata": {},
   "outputs": [],
   "source": [
    "import numpy as np\n",
    "import pandas as pd\n",
    "import statsmodels.api as sm"
   ]
  },
  {
   "cell_type": "code",
   "execution_count": 2,
   "id": "e51a6bee-100f-4972-ac66-90e1a9b59ffa",
   "metadata": {},
   "outputs": [],
   "source": [
    "def generate_data(N=1000, seed=0, effect=1):\n",
    "    rng = np.random.default_rng(seed)\n",
    "    \n",
    "    a = rng.binomial(1, 0.5, size=N)\n",
    "    X = rng.normal(0, 1, size=(N, 2))\n",
    "    X[a==1, 1] += 1  # x1 has larger discrepancy between treated and control\n",
    "    y = X[:, 0] + X[:, 1] + effect*a\n",
    "    \n",
    "    X = pd.DataFrame(X, columns=[\"x_smallASMD\", \"x_bigASMD\"])\n",
    "    a = pd.Series(a, name=\"a\")\n",
    "    y = pd.Series(y, name=\"y\")\n",
    "    return X, a, y"
   ]
  },
  {
   "cell_type": "code",
   "execution_count": 3,
   "id": "4c392f44-c234-4d61-b09d-817818e178c2",
   "metadata": {},
   "outputs": [],
   "source": [
    "def calculate_asmd(X, a):\n",
    "    is_treated = a == 1\n",
    "    X1 = X.loc[is_treated]\n",
    "    X0 = X.loc[~is_treated]\n",
    "    smds = (X0.mean() - X1.mean()) / np.sqrt(X0.var() + X1.var())\n",
    "    asmds = smds.abs()\n",
    "    return asmds"
   ]
  },
  {
   "cell_type": "code",
   "execution_count": 4,
   "id": "c2fda1d8-71be-4895-b364-0e3395e5f2a8",
   "metadata": {},
   "outputs": [],
   "source": [
    "X, a, y = generate_data()\n",
    "data = X.join(a).join(y)"
   ]
  },
  {
   "cell_type": "code",
   "execution_count": 5,
   "id": "4d1a0e55-d165-482d-b514-1aca537b8160",
   "metadata": {},
   "outputs": [
    {
     "data": {
      "text/plain": [
       "x_smallASMD    0.031651\n",
       "x_bigASMD      0.686306\n",
       "dtype: float64"
      ]
     },
     "execution_count": 5,
     "metadata": {},
     "output_type": "execute_result"
    }
   ],
   "source": [
    "calculate_asmd(X, a)"
   ]
  },
  {
   "cell_type": "code",
   "execution_count": 6,
   "id": "b7e8dfcb-67d3-46e9-9203-da5329174948",
   "metadata": {},
   "outputs": [
    {
     "name": "stdout",
     "output_type": "stream",
     "text": [
      "1.0000000000000004\n"
     ]
    }
   ],
   "source": [
    "print(sm.formula.ols(\"y ~ x_smallASMD + x_bigASMD + a\", data=data).fit().params[\"a\"])"
   ]
  },
  {
   "cell_type": "code",
   "execution_count": 7,
   "id": "a505f965-7a5c-4146-85ee-24eafea1c56d",
   "metadata": {},
   "outputs": [
    {
     "name": "stdout",
     "output_type": "stream",
     "text": [
      "1.935770089805863\n"
     ]
    }
   ],
   "source": [
    "print(sm.formula.ols(\"y ~ a\", data=data).fit().params[\"a\"])"
   ]
  },
  {
   "cell_type": "code",
   "execution_count": 8,
   "id": "e0684e5d-f33f-4ff4-af07-5f8a66aa2a92",
   "metadata": {},
   "outputs": [
    {
     "name": "stdout",
     "output_type": "stream",
     "text": [
      "1.9811291769803336\n"
     ]
    }
   ],
   "source": [
    "print(sm.formula.ols(\"y ~ x_smallASMD + a\", data=data).fit().params[\"a\"])"
   ]
  },
  {
   "cell_type": "code",
   "execution_count": 9,
   "id": "b1514f42-59a4-431f-aafd-bc9721575603",
   "metadata": {},
   "outputs": [
    {
     "name": "stdout",
     "output_type": "stream",
     "text": [
      "0.9375093250503619\n"
     ]
    }
   ],
   "source": [
    "print(sm.formula.ols(\"y ~ x_bigASMD + a\", data=data).fit().params[\"a\"])"
   ]
  },
  {
   "cell_type": "code",
   "execution_count": 10,
   "id": "0200c6eb-5ac3-48c9-9067-e5c831c4c9d9",
   "metadata": {},
   "outputs": [
    {
     "name": "stdout",
     "output_type": "stream",
     "text": [
      "Adjusting for both covariates retreives the true effect:\n",
      "1.0000000000000004\n",
      "\n",
      "Adjusting for the covariate with the larger ASMD leads to relatively similar treatment effect:\n",
      "0.9375093250503619\n",
      "\n",
      "But adjusting for the covaraite with the smaller ASMD leads to a far more biased treatement effect:\n",
      "1.9811291769803336\n"
     ]
    }
   ],
   "source": [
    "print(\"Adjusting for both covariates retreives the true effect:\")\n",
    "print(sm.formula.ols(\"y ~ x_smallASMD + x_bigASMD + a\", data=data).fit().params[\"a\"])\n",
    "print()\n",
    "print(\"Adjusting for the covariate with the larger ASMD leads to relatively similar treatment effect:\")\n",
    "print(sm.formula.ols(\"y ~ x_bigASMD + a\", data=data).fit().params[\"a\"])\n",
    "print()\n",
    "print(\"But adjusting for the covaraite with the smaller ASMD leads to a far more biased treatement effect:\")\n",
    "print(sm.formula.ols(\"y ~ x_smallASMD + a\", data=data).fit().params[\"a\"])"
   ]
  },
  {
   "cell_type": "code",
   "execution_count": null,
   "id": "81738266-f208-4da8-bb0e-4380b6a46e24",
   "metadata": {},
   "outputs": [],
   "source": []
  },
  {
   "cell_type": "markdown",
   "id": "f500a90c-f26a-42b9-a704-17ea701ec291",
   "metadata": {},
   "source": [
    "## Plot the results"
   ]
  },
  {
   "cell_type": "code",
   "execution_count": 11,
   "id": "9f53be75-e275-4029-bf8d-1e18e85b7252",
   "metadata": {},
   "outputs": [],
   "source": [
    "import seaborn.objects as so\n",
    "import matplotlib.pyplot as plt"
   ]
  },
  {
   "cell_type": "code",
   "execution_count": 12,
   "id": "a06bc753-0ad5-4345-b999-6617c62a5b07",
   "metadata": {},
   "outputs": [],
   "source": [
    "no_adjustment = sm.formula.ols(\"y ~ a\", data=data).fit()\n",
    "full_adjustment = sm.formula.ols(\"y ~ x_smallASMD + x_bigASMD + a\", data=data).fit()\n",
    "adjusting_big = sm.formula.ols(\"y ~ + x_bigASMD + a\", data=data).fit()\n",
    "adjusting_small = sm.formula.ols(\"y ~ x_smallASMD + a\", data=data).fit()"
   ]
  },
  {
   "cell_type": "code",
   "execution_count": 13,
   "id": "d5f22600-707f-44d1-a8c4-671fe6cdc419",
   "metadata": {},
   "outputs": [
    {
     "data": {
      "text/html": [
       "<div>\n",
       "<style scoped>\n",
       "    .dataframe tbody tr th:only-of-type {\n",
       "        vertical-align: middle;\n",
       "    }\n",
       "\n",
       "    .dataframe tbody tr th {\n",
       "        vertical-align: top;\n",
       "    }\n",
       "\n",
       "    .dataframe thead th {\n",
       "        text-align: right;\n",
       "    }\n",
       "</style>\n",
       "<table border=\"1\" class=\"dataframe\">\n",
       "  <thead>\n",
       "    <tr style=\"text-align: right;\">\n",
       "      <th></th>\n",
       "      <th>model</th>\n",
       "      <th>effect</th>\n",
       "      <th>ci_lower</th>\n",
       "      <th>ci_upper</th>\n",
       "    </tr>\n",
       "  </thead>\n",
       "  <tbody>\n",
       "    <tr>\n",
       "      <th>0</th>\n",
       "      <td>No adjustment</td>\n",
       "      <td>1.935770</td>\n",
       "      <td>1.757893</td>\n",
       "      <td>2.113647</td>\n",
       "    </tr>\n",
       "    <tr>\n",
       "      <th>1</th>\n",
       "      <td>Adjusting for\\nsmall imbalanced</td>\n",
       "      <td>1.981129</td>\n",
       "      <td>1.855418</td>\n",
       "      <td>2.106840</td>\n",
       "    </tr>\n",
       "    <tr>\n",
       "      <th>2</th>\n",
       "      <td>Adjusting for\\nhigh imbalanced</td>\n",
       "      <td>0.937509</td>\n",
       "      <td>0.800115</td>\n",
       "      <td>1.074903</td>\n",
       "    </tr>\n",
       "    <tr>\n",
       "      <th>3</th>\n",
       "      <td>Full adjustment</td>\n",
       "      <td>1.000000</td>\n",
       "      <td>1.000000</td>\n",
       "      <td>1.000000</td>\n",
       "    </tr>\n",
       "  </tbody>\n",
       "</table>\n",
       "</div>"
      ],
      "text/plain": [
       "                             model    effect  ci_lower  ci_upper\n",
       "0                    No adjustment  1.935770  1.757893  2.113647\n",
       "1  Adjusting for\\nsmall imbalanced  1.981129  1.855418  2.106840\n",
       "2   Adjusting for\\nhigh imbalanced  0.937509  0.800115  1.074903\n",
       "3                  Full adjustment  1.000000  1.000000  1.000000"
      ]
     },
     "execution_count": 13,
     "metadata": {},
     "output_type": "execute_result"
    }
   ],
   "source": [
    "res = [\n",
    "    [\"No adjustment\", no_adjustment.params[\"a\"], \n",
    "     no_adjustment.conf_int(0.05).loc[\"a\", 0], no_adjustment.conf_int(0.05).loc[\"a\", 1]],\n",
    "    [\"Adjusting for\\nsmall imbalanced\", adjusting_small.params[\"a\"], \n",
    "     adjusting_small.conf_int(0.05).loc[\"a\", 0], adjusting_small.conf_int(0.05).loc[\"a\", 1]],\n",
    "    [\"Adjusting for\\nhigh imbalanced\", adjusting_big.params[\"a\"], \n",
    "     adjusting_big.conf_int(0.05).loc[\"a\", 0], adjusting_big.conf_int(0.05).loc[\"a\", 1]],\n",
    "    [\"Full adjustment\", full_adjustment.params[\"a\"], \n",
    "     full_adjustment.conf_int(0.05).loc[\"a\", 0], full_adjustment.conf_int(0.05).loc[\"a\", 1]],\n",
    "]\n",
    "res = pd.DataFrame(\n",
    "    res, \n",
    "    columns=[\"model\", \"effect\", \"ci_lower\", \"ci_upper\"],\n",
    ")\n",
    "res"
   ]
  },
  {
   "cell_type": "code",
   "execution_count": 14,
   "id": "29ee6d4a-eeb5-4638-8a18-681183e5856d",
   "metadata": {},
   "outputs": [
    {
     "data": {
      "image/png": "[encoded data removed]",
      "text/plain": [
       "<seaborn._core.plot.Plot at 0x24c9c189700>"
      ]
     },
     "execution_count": 14,
     "metadata": {
      "image/png": {
       "height": 378.25,
       "width": 509.15
      }
     },
     "output_type": "execute_result"
    }
   ],
   "source": [
    "p = so.Plot(\n",
    "    res,\n",
    "    x=\"effect\",\n",
    "    y=\"model\",\n",
    "    xmin=\"ci_lower\",\n",
    "    xmax=\"ci_upper\",\n",
    ").add(\n",
    "    so.Dot()\n",
    ").add(\n",
    "    so.Range(color=\"black\", artist_kws={\"zorder\":0, \"capstyle\": \"round\"})\n",
    ")\n",
    "\n",
    "p    "
   ]
  },
  {
   "cell_type": "code",
   "execution_count": 15,
   "id": "19d70376-97c3-4687-9343-6a8e487619f9",
   "metadata": {},
   "outputs": [],
   "source": [
    "res[\"ci_minus\"] = res[\"effect\"] - res[\"ci_lower\"]\n",
    "res[\"ci_plus\"] = res[\"ci_upper\"] - res[\"effect\"]\n",
    "res = res.iloc[::-1]"
   ]
  },
  {
   "cell_type": "code",
   "execution_count": 16,
   "id": "6ad0cc05-c3bb-4f92-83db-794258ec8e0e",
   "metadata": {},
   "outputs": [
    {
     "data": {
      "image/png": "[encoded data removed]",
      "text/plain": [
       "<Figure size 432x288 with 1 Axes>"
      ]
     },
     "metadata": {
      "needs_background": "light"
     },
     "output_type": "display_data"
    }
   ],
   "source": [
    "fig, ax = plt.subplots(figsize=(6,4))\n",
    "ax.errorbar(\n",
    "    x=res[\"effect\"],\n",
    "    y=res[\"model\"],\n",
    "    xerr=res[[\"ci_minus\", \"ci_plus\"]].T,\n",
    "    capsize=5,\n",
    "    ecolor=\"black\",\n",
    "    marker=\".\",\n",
    "    markersize=12,\n",
    "    linestyle=\"none\",\n",
    ")\n",
    "ax.axvline(1, linestyle=\"--\", color=\"0.7\", zorder=0)\n",
    "# ax.text(1+0, 0-0.6, \"True effect\", color=\"0.5\", fontsize=12, ha=\"center\")\n",
    "# ax.text(1+0, 3+0.2, \"True effect\", color=\"0.5\", fontsize=12, ha=\"center\")\n",
    "ax.text(1+0.02, 1+0.5, \"True effect\", color=\"0.5\", fontsize=12)\n",
    "ax.set_title(\n",
    "    \"Adjusting for the more imbalanced feature reduces more bias\", \n",
    "    # ha=\"right\",\n",
    "    fontsize=14,\n",
    "    y=1.02\n",
    ")\n",
    "ax.tick_params(axis='both', which='major', labelsize=12)\n",
    "fig.tight_layout()"
   ]
  },
  {
   "cell_type": "code",
   "execution_count": 17,
   "id": "601bd3a3-89be-4ad5-8a85-6afdf6e063e2",
   "metadata": {},
   "outputs": [],
   "source": [
    "# fig.savefig(\"figures\\\\asmd_adjustment.png\", facecolor=\"white\", bbox_inches = \"tight\")\n",
    "# fig.savefig(\"figures\\\\asmd_adjustment.pdf\", bbox_inches = \"tight\")\n",
    "# fig.savefig(\"figures\\\\asmd_adjustment.svg\")"
   ]
  },
  {
   "cell_type": "code",
   "execution_count": null,
   "id": "f9d87dd6-5066-488a-b64b-4ff8782f0237",
   "metadata": {},
   "outputs": [],
   "source": []
  },
  {
   "cell_type": "code",
   "execution_count": null,
   "id": "7f63fae1-71f1-4a6b-b1ce-08e65276b408",
   "metadata": {},
   "outputs": [],
   "source": []
  },
  {
   "cell_type": "markdown",
   "id": "e814c9d4-4aa5-4294-ab29-813897e0268f",
   "metadata": {},
   "source": [
    "Now with different $Xy$ coefficients"
   ]
  },
  {
   "cell_type": "code",
   "execution_count": 18,
   "id": "9dd013fa-e384-4504-b99d-373d7fe0d461",
   "metadata": {},
   "outputs": [],
   "source": [
    "def generate_data(N=1000, seed=0, effect=1):\n",
    "    rng = np.random.default_rng(seed)\n",
    "    \n",
    "    a = rng.binomial(1, 0.5, size=N)\n",
    "    X = rng.normal(0, 1, size=(N, 2))\n",
    "    X[a==1, 1] += 2  # x1 has larger discrepancy between treated and control\n",
    "    y = X[:, 0] + 0.001*X[:, 1] + effect*a\n",
    "    \n",
    "    X = pd.DataFrame(X, columns=[\"x_smallbias\", \"x_bigbias\"])\n",
    "    a = pd.Series(a, name=\"a\")\n",
    "    y = pd.Series(y, name=\"y\")\n",
    "    data = X.join(a).join(y)\n",
    "    return data, X, a, y\n"
   ]
  },
  {
   "cell_type": "code",
   "execution_count": 19,
   "id": "2ba70851-ae8a-4beb-95ee-d0980e8d9cd0",
   "metadata": {},
   "outputs": [],
   "source": [
    "data, X, a, y = generate_data(effect=0)"
   ]
  },
  {
   "cell_type": "code",
   "execution_count": 20,
   "id": "3397e0f1-e97b-4fa8-986f-8dacb5788ba4",
   "metadata": {},
   "outputs": [
    {
     "data": {
      "text/plain": [
       "x_smallbias    0.031651\n",
       "x_bigbias      1.386414\n",
       "dtype: float64"
      ]
     },
     "execution_count": 20,
     "metadata": {},
     "output_type": "execute_result"
    }
   ],
   "source": [
    "calculate_asmd(X, a)"
   ]
  },
  {
   "cell_type": "code",
   "execution_count": 21,
   "id": "1faa90bf-ba9f-4368-8c1c-ffe2982ad059",
   "metadata": {},
   "outputs": [
    {
     "name": "stdout",
     "output_type": "stream",
     "text": [
      "True\t 0.0\n",
      "Small\t 0.002\n",
      "Big\t 0.081\n"
     ]
    }
   ],
   "source": [
    "print(\"True\\t\", round(sm.formula.ols(\"y ~ x_smallbias + x_bigbias + a\", data=data).fit().params[\"a\"], 3))\n",
    "print(\"Small\\t\", round(sm.formula.ols(\"y ~ x_smallbias + a\", data=data).fit().params[\"a\"], 3))\n",
    "print(\"Big\\t\", round(abs(sm.formula.ols(\"y ~ x_bigbias + a\", data=data).fit().params[\"a\"]), 3))"
   ]
  },
  {
   "cell_type": "code",
   "execution_count": null,
   "id": "77f9c28e-cad9-4666-b5c2-b8c4e43b711d",
   "metadata": {},
   "outputs": [],
   "source": []
  }
 ],
 "metadata": {
  "kernelspec": {
   "display_name": "Python 3 (ipykernel)",
   "language": "python",
   "name": "python3"
  },
  "language_info": {
   "codemirror_mode": {
    "name": "ipython",
    "version": 3
   },
   "file_extension": ".py",
   "mimetype": "text/x-python",
   "name": "python",
   "nbconvert_exporter": "python",
   "pygments_lexer": "ipython3",
   "version": "3.8.12"
  }
 },
 "nbformat": 4,
 "nbformat_minor": 5
}
